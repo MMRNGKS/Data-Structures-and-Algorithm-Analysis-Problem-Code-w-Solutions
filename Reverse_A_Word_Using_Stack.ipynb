{
  "nbformat": 4,
  "nbformat_minor": 0,
  "metadata": {
    "colab": {
      "name": "Cpe211B-MamarungkasHanzel-Assign6.ipynb",
      "provenance": [],
      "collapsed_sections": [],
      "authorship_tag": "ABX9TyPGTQenYSBHGthO8GWRnX8S",
      "include_colab_link": true
    },
    "kernelspec": {
      "name": "python3",
      "display_name": "Python 3"
    },
    "language_info": {
      "name": "python"
    }
  },
  "cells": [
    {
      "cell_type": "markdown",
      "metadata": {
        "id": "view-in-github",
        "colab_type": "text"
      },
      "source": [
        "<a href=\"https://colab.research.google.com/github/MMRNGKS/Data-Structures-and-Algorithm-Analysis-Problem-Code-w-Solutions/blob/main/Reverse_A_Word_Using_Stack.ipynb\" target=\"_parent\"><img src=\"https://colab.research.google.com/assets/colab-badge.svg\" alt=\"Open In Colab\"/></a>"
      ]
    },
    {
      "cell_type": "markdown",
      "metadata": {
        "id": "0tNRi9rmBIu1"
      },
      "source": [
        "# **Write a program to accept as input a string consisting of 1 or more words. Output the same string in which each word is reversed. Use 1 stack to store the letters of each word and use 1 queue to reverse the word stored in the stack.**"
      ]
    },
    {
      "cell_type": "markdown",
      "metadata": {
        "id": "enqI6ppEBMYL"
      },
      "source": [
        "This line of codes will reverse the string inputted by the user from the first word of the sentence to the last word of the sentence, not from the rear of the sentence."
      ]
    },
    {
      "cell_type": "code",
      "metadata": {
        "colab": {
          "base_uri": "https://localhost:8080/"
        },
        "id": "8kIORN9fBOAI",
        "outputId": "9689a379-32ae-41d3-ba01-e52ca4952ffb"
      },
      "source": [
        "from collections import deque\n",
        "stack = []    # < Declaring a Stack or a list with a variable name \"stack\".\n",
        "q = deque()   # < Declaring a Queue with a variable name \"q\".\n",
        "reverse = ''  # < A place holder string with a variable name \"reverse\".\n",
        "\n",
        "inp = input('Enter Expression: ')   # < Ask the user to input a string.  \n",
        "exp = iter(inp)                     # < Will iterate the strings that the user inputted.\n",
        "\n",
        "for i in range(len(inp)):           # < The condition of this for-loop is stop the loop if the value of \"i\" is greater than the value of length of the string \"inp\".\n",
        "    x = next(exp)                   # < Using next() function to get the iterated string from \"exp\". It is inside the loop to get each characters from \"exp\".\n",
        "\n",
        "    if x != \" \":                    # < If \"x\" is not equal to white space, then the condition is TRUE.\n",
        "      stack.append(x)               # < If the condition above is TRUE, push the current character of \"x\" inside the stack.\n",
        "    else:                           # < If \"x\" is equals to white space, pop the elements inside the stack \"stack\" then append the popped element to queue \"q\".\n",
        "      while len(stack) > 0:          \n",
        "        q.append(stack.pop())        \n",
        "      q.append(' ')                 \n",
        "\n",
        "while len(stack) > 0:               # < pop the remaining elements inside the stack \"stack\" then append the popped element to queue \"q\".\n",
        "        q.append(stack.pop())\n",
        "\n",
        "while len(q) > 0:                   # < pop the elements inside the queue \"q\" then concat's the element to string \"reverse\".\n",
        "        reverse += q.popleft()\n",
        "\n",
        "print('Output: ', reverse)          # < Print the string \"Output\".\n"
      ],
      "execution_count": null,
      "outputs": [
        {
          "output_type": "stream",
          "name": "stdout",
          "text": [
            "Enter Expression: This is to certify\n",
            "Output:  sihT si ot yfitrec\n"
          ]
        }
      ]
    }
  ]
}